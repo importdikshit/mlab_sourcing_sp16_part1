{
 "cells": [
  {
   "cell_type": "code",
   "execution_count": 35,
   "metadata": {
    "collapsed": false
   },
   "outputs": [],
   "source": [
    "import pandas as pd\n",
    "import numpy as np\n",
    "from datascience import *\n",
    "from matplotlib import pyplot as plt\n",
    "%matplotlib inline"
   ]
  },
  {
   "cell_type": "code",
   "execution_count": 36,
   "metadata": {
    "collapsed": false
   },
   "outputs": [],
   "source": [
    "# Read the files for 2015\n",
    "\n",
    "data_May15 = pd.read_csv(\"file:///Users/ishandikshit/Desktop/sourcing/BuyerInvoice_Data_UCSFMay2015.csv\", low_memory=False)\n",
    "data_June15 = pd.read_csv(\"file:///Users/ishandikshit/Desktop/sourcing/BuyerInvoice_Data_UCSFJune2015.csv\", low_memory=False)\n",
    "\n",
    "data = [data_May15, data_June15]\n",
    "# data_July15 = pd.read_csv(\"file:///Users/ishandikshit/Desktop/sourcing/BuyerInvoice_Data_UCSFJune2015.csv\", low_memory=False)"
   ]
  },
  {
   "cell_type": "code",
   "execution_count": 38,
   "metadata": {
    "collapsed": false
   },
   "outputs": [],
   "source": [
    "# list(data[0])"
   ]
  },
  {
   "cell_type": "code",
   "execution_count": 39,
   "metadata": {
    "collapsed": false
   },
   "outputs": [],
   "source": [
    "keep_these = ['Workflow Status', 'Supplier Name', 'Supplier Number','Invoice Line Extended Price',\n",
    "              'Invoice System Created Date', 'Quantity', 'Home Department Name', 'Product Name']\n",
    "\n",
    "for this_month in data:\n",
    "    for label in list(this_month):\n",
    "        if label not in keep_these:\n",
    "            this_month.drop(label, axis=1, inplace=True)"
   ]
  },
  {
   "cell_type": "code",
   "execution_count": 40,
   "metadata": {
    "collapsed": false
   },
   "outputs": [],
   "source": [
    "# data[0]"
   ]
  },
  {
   "cell_type": "code",
   "execution_count": 41,
   "metadata": {
    "collapsed": false
   },
   "outputs": [],
   "source": [
    "for each in data:\n",
    "    each.columns = ['status', 's_name', 's_num', 'date', 'p_name', 'quantity', 'price', 'dept']"
   ]
  },
  {
   "cell_type": "code",
   "execution_count": 46,
   "metadata": {
    "collapsed": false
   },
   "outputs": [
    {
     "data": {
      "text/html": [
       "<table border=\"1\" class=\"dataframe\">\n",
       "    <thead>\n",
       "        <tr>\n",
       "            <th>status</th> <th>s_name</th> <th>s_num</th> <th>date</th> <th>p_name</th> <th>quantity</th> <th>price</th> <th>dept</th>\n",
       "        </tr>\n",
       "    </thead>\n",
       "    <tbody>\n",
       "        <tr>\n",
       "            <td>Complete</td> <td>INTEGRATED DNA TECHNOLOGIES INC</td> <td>30010408</td> <td>5/31/2015</td> <td>25 nmole DNA Oligo | 25 nmole DNA Oligo | 25 nmole DNA O ...</td> <td>1       </td> <td>16.66</td> <td>CELL CULTURE (406331)</td>\n",
       "        </tr>\n",
       "    </tbody>\n",
       "        <tr>\n",
       "            <td>Complete</td> <td>INTEGRATED DNA TECHNOLOGIES INC</td> <td>30010408</td> <td>5/31/2015</td> <td>25 nmole DNA Oligo                                          </td> <td>1       </td> <td>6.63 </td> <td>CELL CULTURE (406331)</td>\n",
       "        </tr>\n",
       "    </tbody>\n",
       "        <tr>\n",
       "            <td>Complete</td> <td>INTEGRATED DNA TECHNOLOGIES INC</td> <td>30010408</td> <td>5/31/2015</td> <td>25 nmole DNA Oligo | 25 nmole DNA Oligo | 25 nmole DNA O ...</td> <td>1       </td> <td>80.92</td> <td>CELL CULTURE (406331)</td>\n",
       "        </tr>\n",
       "    </tbody>\n",
       "        <tr>\n",
       "            <td>Complete</td> <td>INTEGRATED DNA TECHNOLOGIES INC</td> <td>30010408</td> <td>5/31/2015</td> <td>25 nmole DNA Oligo | 25 nmole DNA Oligo | 25 nmole DNA O ...</td> <td>1       </td> <td>22.1 </td> <td>CELL CULTURE (406331)</td>\n",
       "        </tr>\n",
       "    </tbody>\n",
       "        <tr>\n",
       "            <td>Complete</td> <td>INTEGRATED DNA TECHNOLOGIES INC</td> <td>30010408</td> <td>5/31/2015</td> <td>25 nmole DNA Oligo | 25 nmole DNA Oligo                     </td> <td>1       </td> <td>8.33 </td> <td>CELL CULTURE (406331)</td>\n",
       "        </tr>\n",
       "    </tbody>\n",
       "        <tr>\n",
       "            <td>Complete</td> <td>INTEGRATED DNA TECHNOLOGIES INC</td> <td>30010408</td> <td>5/31/2015</td> <td>25 nmole DNA Oligo | 25 nmole DNA Oligo                     </td> <td>1       </td> <td>7.14 </td> <td>CELL CULTURE (406331)</td>\n",
       "        </tr>\n",
       "    </tbody>\n",
       "        <tr>\n",
       "            <td>Complete</td> <td>INTEGRATED DNA TECHNOLOGIES INC</td> <td>30010408</td> <td>5/31/2015</td> <td>25 nmole DNA Oligo                                          </td> <td>1       </td> <td>4.25 </td> <td>CELL CULTURE (406331)</td>\n",
       "        </tr>\n",
       "    </tbody>\n",
       "        <tr>\n",
       "            <td>Complete</td> <td>INTEGRATED DNA TECHNOLOGIES INC</td> <td>30010408</td> <td>5/31/2015</td> <td>25 nmole DNA Oligo | 25 nmole DNA Oligo | 25 nmole DNA O ...</td> <td>1       </td> <td>17.68</td> <td>CELL CULTURE (406331)</td>\n",
       "        </tr>\n",
       "    </tbody>\n",
       "        <tr>\n",
       "            <td>Complete</td> <td>INTEGRATED DNA TECHNOLOGIES INC</td> <td>30010408</td> <td>5/31/2015</td> <td>25 nmole DNA Oligo | 25 nmole DNA Oligo | 25 nmole DNA Oligo</td> <td>1       </td> <td>57.8 </td> <td>CELL CULTURE (406331)</td>\n",
       "        </tr>\n",
       "    </tbody>\n",
       "        <tr>\n",
       "            <td>Complete</td> <td>INTEGRATED DNA TECHNOLOGIES INC</td> <td>30010408</td> <td>5/31/2015</td> <td>25 nmole DNA Oligo | 25 nmole DNA Oligo | 25 nmole DNA O ...</td> <td>1       </td> <td>27.03</td> <td>CELL CULTURE (406331)</td>\n",
       "        </tr>\n",
       "    </tbody>\n",
       "</table>\n",
       "<p>... (43221 rows omitted)</p"
      ],
      "text/plain": [
       "status   | s_name                          | s_num    | date      | p_name                                                       | quantity | price | dept\n",
       "Complete | INTEGRATED DNA TECHNOLOGIES INC | 30010408 | 5/31/2015 | 25 nmole DNA Oligo | 25 nmole DNA Oligo | 25 nmole DNA O ... | 1        | 16.66 | CELL CULTURE (406331)\n",
       "Complete | INTEGRATED DNA TECHNOLOGIES INC | 30010408 | 5/31/2015 | 25 nmole DNA Oligo                                           | 1        | 6.63  | CELL CULTURE (406331)\n",
       "Complete | INTEGRATED DNA TECHNOLOGIES INC | 30010408 | 5/31/2015 | 25 nmole DNA Oligo | 25 nmole DNA Oligo | 25 nmole DNA O ... | 1        | 80.92 | CELL CULTURE (406331)\n",
       "Complete | INTEGRATED DNA TECHNOLOGIES INC | 30010408 | 5/31/2015 | 25 nmole DNA Oligo | 25 nmole DNA Oligo | 25 nmole DNA O ... | 1        | 22.1  | CELL CULTURE (406331)\n",
       "Complete | INTEGRATED DNA TECHNOLOGIES INC | 30010408 | 5/31/2015 | 25 nmole DNA Oligo | 25 nmole DNA Oligo                      | 1        | 8.33  | CELL CULTURE (406331)\n",
       "Complete | INTEGRATED DNA TECHNOLOGIES INC | 30010408 | 5/31/2015 | 25 nmole DNA Oligo | 25 nmole DNA Oligo                      | 1        | 7.14  | CELL CULTURE (406331)\n",
       "Complete | INTEGRATED DNA TECHNOLOGIES INC | 30010408 | 5/31/2015 | 25 nmole DNA Oligo                                           | 1        | 4.25  | CELL CULTURE (406331)\n",
       "Complete | INTEGRATED DNA TECHNOLOGIES INC | 30010408 | 5/31/2015 | 25 nmole DNA Oligo | 25 nmole DNA Oligo | 25 nmole DNA O ... | 1        | 17.68 | CELL CULTURE (406331)\n",
       "Complete | INTEGRATED DNA TECHNOLOGIES INC | 30010408 | 5/31/2015 | 25 nmole DNA Oligo | 25 nmole DNA Oligo | 25 nmole DNA Oligo | 1        | 57.8  | CELL CULTURE (406331)\n",
       "Complete | INTEGRATED DNA TECHNOLOGIES INC | 30010408 | 5/31/2015 | 25 nmole DNA Oligo | 25 nmole DNA Oligo | 25 nmole DNA O ... | 1        | 27.03 | CELL CULTURE (406331)\n",
       "... (43221 rows omitted)"
      ]
     },
     "execution_count": 46,
     "metadata": {},
     "output_type": "execute_result"
    }
   ],
   "source": [
    "data[0]"
   ]
  },
  {
   "cell_type": "code",
   "execution_count": 43,
   "metadata": {
    "collapsed": false
   },
   "outputs": [],
   "source": [
    "for month in data:\n",
    "    month = month[month.status != 'Pending']\n",
    "    month = month[month.status != 'Rejected']\n",
    "    month = month[month.price > 0]"
   ]
  },
  {
   "cell_type": "code",
   "execution_count": 44,
   "metadata": {
    "collapsed": true
   },
   "outputs": [],
   "source": [
    "# for shit in data:\n",
    "#     shit = shit.drop('status', axis=1, inplace=True)\n",
    "# RUN THIS ONLY ONCE. IT WILL ERROR OUT IF YOU RUN IT TWICE"
   ]
  },
  {
   "cell_type": "code",
   "execution_count": 45,
   "metadata": {
    "collapsed": false
   },
   "outputs": [],
   "source": [
    "data_list = []\n",
    "\n",
    "for fshit in data:\n",
    "    data_list = data_list + [Table.from_df(fshit)]"
   ]
  },
  {
   "cell_type": "code",
   "execution_count": 34,
   "metadata": {
    "collapsed": false
   },
   "outputs": [
    {
     "data": {
      "image/png": "[encoded data removed]",
      "text/plain": [
       "<matplotlib.figure.Figure at 0x10452f0b8>"
      ]
     },
     "metadata": {},
     "output_type": "display_data"
    }
   ],
   "source": [
    "plt.hist(data_list[1].column('price'))\n",
    "plt.show()"
   ]
  },
  {
   "cell_type": "markdown",
   "metadata": {
    "collapsed": false
   },
   "source": []
  },
  {
   "cell_type": "code",
   "execution_count": 12,
   "metadata": {
    "collapsed": false
   },
   "outputs": [],
   "source": []
  },
  {
   "cell_type": "code",
   "execution_count": null,
   "metadata": {
    "collapsed": false
   },
   "outputs": [],
   "source": []
  },
  {
   "cell_type": "code",
   "execution_count": 25,
   "metadata": {
    "collapsed": false
   },
   "outputs": [],
   "source": []
  },
  {
   "cell_type": "code",
   "execution_count": 48,
   "metadata": {
    "collapsed": false
   },
   "outputs": [],
   "source": [
    "for index in np.arange(len(data_list)):\n",
    "    data_list[index] = data_list[index].drop('supplier_name')"
   ]
  },
  {
   "cell_type": "code",
   "execution_count": 49,
   "metadata": {
    "collapsed": false
   },
   "outputs": [
    {
     "data": {
      "text/html": [
       "<table border=\"1\" class=\"dataframe\">\n",
       "    <thead>\n",
       "        <tr>\n",
       "            <th>supplier_num</th> <th>money</th>\n",
       "        </tr>\n",
       "    </thead>\n",
       "    <tbody>\n",
       "        <tr>\n",
       "            <td>30010408    </td> <td>16.66</td>\n",
       "        </tr>\n",
       "    </tbody>\n",
       "        <tr>\n",
       "            <td>30010408    </td> <td>6.63 </td>\n",
       "        </tr>\n",
       "    </tbody>\n",
       "        <tr>\n",
       "            <td>30010408    </td> <td>80.92</td>\n",
       "        </tr>\n",
       "    </tbody>\n",
       "        <tr>\n",
       "            <td>30010408    </td> <td>22.1 </td>\n",
       "        </tr>\n",
       "    </tbody>\n",
       "        <tr>\n",
       "            <td>30010408    </td> <td>8.33 </td>\n",
       "        </tr>\n",
       "    </tbody>\n",
       "        <tr>\n",
       "            <td>30010408    </td> <td>7.14 </td>\n",
       "        </tr>\n",
       "    </tbody>\n",
       "        <tr>\n",
       "            <td>30010408    </td> <td>4.25 </td>\n",
       "        </tr>\n",
       "    </tbody>\n",
       "        <tr>\n",
       "            <td>30010408    </td> <td>17.68</td>\n",
       "        </tr>\n",
       "    </tbody>\n",
       "        <tr>\n",
       "            <td>30010408    </td> <td>57.8 </td>\n",
       "        </tr>\n",
       "    </tbody>\n",
       "        <tr>\n",
       "            <td>30010408    </td> <td>27.03</td>\n",
       "        </tr>\n",
       "    </tbody>\n",
       "</table>\n",
       "<p>... (43221 rows omitted)</p"
      ],
      "text/plain": [
       "supplier_num | money\n",
       "30010408     | 16.66\n",
       "30010408     | 6.63\n",
       "30010408     | 80.92\n",
       "30010408     | 22.1\n",
       "30010408     | 8.33\n",
       "30010408     | 7.14\n",
       "30010408     | 4.25\n",
       "30010408     | 17.68\n",
       "30010408     | 57.8\n",
       "30010408     | 27.03\n",
       "... (43221 rows omitted)"
      ]
     },
     "execution_count": 49,
     "metadata": {},
     "output_type": "execute_result"
    }
   ],
   "source": [
    "# data_list[0]"
   ]
  },
  {
   "cell_type": "code",
   "execution_count": 50,
   "metadata": {
    "collapsed": true
   },
   "outputs": [],
   "source": [
    "for index in np.arange(len(data_list)):\n",
    "    data_list[index] = data_list[index].group(\"supplier_num\", sum)"
   ]
  },
  {
   "cell_type": "code",
   "execution_count": 52,
   "metadata": {
    "collapsed": false
   },
   "outputs": [],
   "source": [
    "main_table = data_list[0].join('supplier_num', data_list[1])"
   ]
  },
  {
   "cell_type": "code",
   "execution_count": 53,
   "metadata": {
    "collapsed": false
   },
   "outputs": [
    {
     "data": {
      "text/html": [
       "<table border=\"1\" class=\"dataframe\">\n",
       "    <thead>\n",
       "        <tr>\n",
       "            <th>supplier_num</th> <th>money sum</th> <th>money sum_2</th>\n",
       "        </tr>\n",
       "    </thead>\n",
       "    <tbody>\n",
       "        <tr>\n",
       "            <td>30000001    </td> <td>4202     </td> <td>1260       </td>\n",
       "        </tr>\n",
       "    </tbody>\n",
       "        <tr>\n",
       "            <td>30000033    </td> <td>1257.14  </td> <td>1645.31    </td>\n",
       "        </tr>\n",
       "    </tbody>\n",
       "        <tr>\n",
       "            <td>30000068    </td> <td>2912.61  </td> <td>4574.95    </td>\n",
       "        </tr>\n",
       "    </tbody>\n",
       "        <tr>\n",
       "            <td>30000078    </td> <td>429.29   </td> <td>215.65     </td>\n",
       "        </tr>\n",
       "    </tbody>\n",
       "        <tr>\n",
       "            <td>30000083    </td> <td>140.49   </td> <td>354.61     </td>\n",
       "        </tr>\n",
       "    </tbody>\n",
       "        <tr>\n",
       "            <td>30000103    </td> <td>710.7    </td> <td>2093.4     </td>\n",
       "        </tr>\n",
       "    </tbody>\n",
       "        <tr>\n",
       "            <td>30000104    </td> <td>44393.3  </td> <td>32231.1    </td>\n",
       "        </tr>\n",
       "    </tbody>\n",
       "        <tr>\n",
       "            <td>30000128    </td> <td>685052   </td> <td>1.00765e+06</td>\n",
       "        </tr>\n",
       "    </tbody>\n",
       "        <tr>\n",
       "            <td>30000191    </td> <td>23126.1  </td> <td>15013.9    </td>\n",
       "        </tr>\n",
       "    </tbody>\n",
       "        <tr>\n",
       "            <td>30000201    </td> <td>103      </td> <td>322        </td>\n",
       "        </tr>\n",
       "    </tbody>\n",
       "</table>\n",
       "<p>... (1608 rows omitted)</p"
      ],
      "text/plain": [
       "supplier_num | money sum | money sum_2\n",
       "30000001     | 4202      | 1260\n",
       "30000033     | 1257.14   | 1645.31\n",
       "30000068     | 2912.61   | 4574.95\n",
       "30000078     | 429.29    | 215.65\n",
       "30000083     | 140.49    | 354.61\n",
       "30000103     | 710.7     | 2093.4\n",
       "30000104     | 44393.3   | 32231.1\n",
       "30000128     | 685052    | 1.00765e+06\n",
       "30000191     | 23126.1   | 15013.9\n",
       "30000201     | 103       | 322\n",
       "... (1608 rows omitted)"
      ]
     },
     "execution_count": 53,
     "metadata": {},
     "output_type": "execute_result"
    }
   ],
   "source": [
    "main_table"
   ]
  },
  {
   "cell_type": "code",
   "execution_count": null,
   "metadata": {
    "collapsed": true
   },
   "outputs": [],
   "source": [
    "# ARCHIVE CODE\n",
    "\n",
    "# THIS IS THE COMPANY NAME RETRIEVAL CODE\n",
    "\n",
    "# all_names = []\n",
    "# for name in list(data_May15.supplier_name):\n",
    "#     if name not in all_names:\n",
    "#         all_names.append(name)\n",
    "\n",
    "# duplicate = data_May15.copy()\n",
    "# duplicate.drop('money', axis=1, inplace=True)\n",
    "\n",
    "# for label in all_names:\n",
    "#     print(list(duplicate.loc[duplicate['supplier_name'] == label].supplier_num))\n",
    "\n"
   ]
  }
 ],
 "metadata": {
  "kernelspec": {
   "display_name": "Python 3",
   "language": "python",
   "name": "python3"
  },
  "language_info": {
   "codemirror_mode": {
    "name": "ipython",
    "version": 3
   },
   "file_extension": ".py",
   "mimetype": "text/x-python",
   "name": "python",
   "nbconvert_exporter": "python",
   "pygments_lexer": "ipython3",
   "version": "3.4.4"
  }
 },
 "nbformat": 4,
 "nbformat_minor": 0
}
